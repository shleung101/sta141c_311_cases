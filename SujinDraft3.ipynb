{
 "cells": [
  {
   "cell_type": "code",
   "execution_count": 236,
   "metadata": {},
   "outputs": [],
   "source": [
    "import numpy as np\n",
    "import matplotlib.pyplot as plt\n",
    "import pandas as pd\n",
    "import csv"
   ]
  },
  {
   "cell_type": "code",
   "execution_count": 429,
   "metadata": {},
   "outputs": [],
   "source": [
    "# Read csv file\n",
    "cases = pd.read_csv('../STA 141C/Cases_Subset.csv', sep = \",\", dtype = \"str\")"
   ]
  },
  {
   "cell_type": "code",
   "execution_count": 430,
   "metadata": {},
   "outputs": [],
   "source": [
    "# Drop extra columns\n",
    "cases = cases.drop(cases.columns[range(20,47)], axis = 1)\n",
    "cases[date_columns] = cases[date_columns].apply(pd.to_datetime, format = \"%m/%d/%Y %I:%M:%S %p\",errors = \"coerce\")"
   ]
  },
  {
   "cell_type": "code",
   "execution_count": 431,
   "metadata": {},
   "outputs": [],
   "source": [
    "# Question 3: given the request type, what is the predicted time of day\n",
    "\n",
    "# subset data\n",
    "cases_q3 = cases.drop(['Request Details','CaseID','Media URL','Closed','Updated',\n",
    "                       'Status Notes','Point','Address'], axis=1)\n",
    "cases_q3 = cases_q3.dropna()"
   ]
  },
  {
   "cell_type": "code",
   "execution_count": 432,
   "metadata": {},
   "outputs": [],
   "source": [
    "# separate by day and night \n",
    "# day = 0; night = 1\n",
    "cases_q3 = cases_q3.set_index(pd.to_datetime(cases_q3['Opened']))\n",
    "cases_q3[\"day_night\"] = 1"
   ]
  },
  {
   "cell_type": "code",
   "execution_count": 433,
   "metadata": {},
   "outputs": [],
   "source": [
    "cases_q3.loc[cases_q3.between_time(\"06:00\", \"18:00\").index, \"day_night\"] = 0"
   ]
  },
  {
   "cell_type": "code",
   "execution_count": 434,
   "metadata": {},
   "outputs": [
    {
     "data": {
      "text/plain": [
       "0    1459\n",
       "1     455\n",
       "Name: day_night, dtype: int64"
      ]
     },
     "execution_count": 434,
     "metadata": {},
     "output_type": "execute_result"
    }
   ],
   "source": [
    "cases_q3[\"day_night\"].value_counts()"
   ]
  },
  {
   "cell_type": "code",
   "execution_count": 435,
   "metadata": {},
   "outputs": [],
   "source": [
    "# dummy variables for categorical columns\n",
    "status = pd.get_dummies(cases_q3['Status'],drop_first=True)\n",
    "category = pd.get_dummies(cases_q3['Category'],drop_first=True)\n",
    "request = pd.get_dummies(cases_q3['Request Type'],drop_first=True)\n",
    "agency = pd.get_dummies(cases_q3['Responsible Agency'],drop_first=True)\n",
    "street = pd.get_dummies(cases_q3['Street'],drop_first=True)\n",
    "supervisor = pd.get_dummies(cases_q3['Supervisor District'],drop_first=True)\n",
    "neighbor = pd.get_dummies(cases_q3['Neighborhood'],drop_first=True)\n",
    "police = pd.get_dummies(cases_q3['Police District'],drop_first=True)\n",
    "source = pd.get_dummies(cases_q3['Source'],drop_first=True)"
   ]
  },
  {
   "cell_type": "code",
   "execution_count": 436,
   "metadata": {},
   "outputs": [],
   "source": [
    "df_cases = pd.concat([cases_q3,status,category,request,agency,street,supervisor,neighbor,police,source],axis=1)"
   ]
  },
  {
   "cell_type": "code",
   "execution_count": 437,
   "metadata": {},
   "outputs": [],
   "source": [
    "# dropping the original columns\n",
    "df_cases = df_cases.drop(['Status','Category','Request Type','Responsible Agency','Street',\n",
    "              'Supervisor District','Neighborhood','Police District',\n",
    "              'Opened','Source'],axis=1)"
   ]
  },
  {
   "cell_type": "code",
   "execution_count": 400,
   "metadata": {},
   "outputs": [],
   "source": [
    "# Dimension Reduction & Logistic Regression\n",
    "from sklearn.linear_model import LogisticRegression\n",
    "from sklearn.model_selection import train_test_split\n",
    "from sklearn.preprocessing import StandardScaler"
   ]
  },
  {
   "cell_type": "code",
   "execution_count": 401,
   "metadata": {},
   "outputs": [],
   "source": [
    "X = df_cases.loc[:,df_cases.columns != 'day_night']\n",
    "\n",
    "# create y from rating\n",
    "y = df_cases['day_night']"
   ]
  },
  {
   "cell_type": "markdown",
   "metadata": {},
   "source": [
    "## Logistic Regression After PCA"
   ]
  },
  {
   "cell_type": "code",
   "execution_count": 402,
   "metadata": {},
   "outputs": [],
   "source": [
    "# PCA the data except day_night column\n",
    "from sklearn.decomposition import PCA\n",
    "pca = PCA(n_components=2,random_state=1)\n",
    "pca_data = pca.fit_transform(df_cases.loc[:,df_cases.columns != 'day_night'])"
   ]
  },
  {
   "cell_type": "code",
   "execution_count": 403,
   "metadata": {},
   "outputs": [],
   "source": [
    "# split the data into test and training sets, with 70% of samples being put into the training set\n",
    "X_train, X_test, y_train, y_test = train_test_split(pca_data, y, test_size=0.3, random_state=0)"
   ]
  },
  {
   "cell_type": "code",
   "execution_count": 404,
   "metadata": {},
   "outputs": [
    {
     "name": "stdout",
     "output_type": "stream",
     "text": [
      "Coefficient of each feature: [[-0.00098988 -0.23490749]]\n",
      "Training accuracy: 0.7628571428571429\n",
      "Test accuracy: 0.765\n",
      "\n"
     ]
    }
   ],
   "source": [
    "# Logistic Regression after PCA\n",
    "clf = LogisticRegression(penalty='l2', solver='liblinear')\n",
    "clf.fit(X_train, y_train)\n",
    "print('Coefficient of each feature:', clf.coef_)\n",
    "print('Training accuracy:', clf.score(X_train, y_train))\n",
    "print('Test accuracy:', clf.score(X_test, y_test))\n",
    "print('')"
   ]
  },
  {
   "cell_type": "code",
   "execution_count": 405,
   "metadata": {},
   "outputs": [
    {
     "name": "stdout",
     "output_type": "stream",
     "text": [
      "Confusion Matrix\n",
      "[[459   0]\n",
      " [141   0]]\n",
      "\n"
     ]
    }
   ],
   "source": [
    "# accuracy \n",
    "from sklearn.metrics import confusion_matrix, recall_score, accuracy_score\n",
    "\n",
    "y_predict = clf.predict(X_test) \n",
    "\n",
    "print(\"Confusion Matrix\")\n",
    "print(confusion_matrix(y_test, y_predict))\n",
    "print()"
   ]
  },
  {
   "cell_type": "code",
   "execution_count": 344,
   "metadata": {},
   "outputs": [
    {
     "name": "stdout",
     "output_type": "stream",
     "text": [
      "Accuracy Score: 0.768695652173913\n",
      "\n"
     ]
    }
   ],
   "source": [
    "print(\"Accuracy Score:\",accuracy_score(y_test, y_predict))\n",
    "print()"
   ]
  },
  {
   "cell_type": "markdown",
   "metadata": {},
   "source": [
    "## Logistic Regression With Original Dataset"
   ]
  },
  {
   "cell_type": "code",
   "execution_count": 356,
   "metadata": {},
   "outputs": [],
   "source": [
    "# split the data into test and training sets, with 70% of samples being put into the training set\n",
    "X_train, X_test, y_train, y_test = train_test_split(X, y, test_size=0.3, random_state=0)"
   ]
  },
  {
   "cell_type": "code",
   "execution_count": 346,
   "metadata": {
    "scrolled": false
   },
   "outputs": [
    {
     "name": "stdout",
     "output_type": "stream",
     "text": [
      "Training accuracy: 0.8543689320388349\n",
      "Test accuracy: 0.7704347826086957\n",
      "\n"
     ]
    }
   ],
   "source": [
    "# Logistic Regression after PCA\n",
    "clf = LogisticRegression(penalty='l2', solver='liblinear')\n",
    "clf.fit(X_train, y_train)\n",
    "print('Training accuracy:', clf.score(X_train, y_train))\n",
    "print('Test accuracy:', clf.score(X_test, y_test))\n",
    "print('')"
   ]
  },
  {
   "cell_type": "code",
   "execution_count": 347,
   "metadata": {},
   "outputs": [],
   "source": [
    "# try to predict the last entry after training all others\n",
    "X_pred = df_cases.iloc[:-1, df_cases.columns != 'day_night']\n",
    "y_pred = df_cases.iloc[:-1,-1]"
   ]
  },
  {
   "cell_type": "code",
   "execution_count": 348,
   "metadata": {},
   "outputs": [],
   "source": [
    "clf.fit(X_pred, y_pred)\n",
    "\n",
    "# if the request was made during the day or night time\n",
    "pred = clf.predict(np.array(df_cases.iloc[-1, df_cases.columns != 'day_night']).reshape(1,-1))"
   ]
  },
  {
   "cell_type": "code",
   "execution_count": 349,
   "metadata": {},
   "outputs": [
    {
     "data": {
      "text/plain": [
       "array([0], dtype=uint8)"
      ]
     },
     "execution_count": 349,
     "metadata": {},
     "output_type": "execute_result"
    }
   ],
   "source": [
    "# check the prediction\n",
    "pred "
   ]
  },
  {
   "cell_type": "code",
   "execution_count": 358,
   "metadata": {
    "scrolled": true
   },
   "outputs": [
    {
     "name": "stdout",
     "output_type": "stream",
     "text": [
      "Confusion Matrix\n",
      "[[388  54]\n",
      " [115  18]]\n",
      "\n"
     ]
    }
   ],
   "source": [
    "# accuracy \n",
    "\n",
    "y_predict = clf.predict(X_test) \n",
    "\n",
    "print(\"Confusion Matrix\")\n",
    "print(confusion_matrix(y_test, y_predict))\n",
    "print()"
   ]
  },
  {
   "cell_type": "code",
   "execution_count": 311,
   "metadata": {},
   "outputs": [
    {
     "name": "stdout",
     "output_type": "stream",
     "text": [
      "Accuracy Score: 0.7060869565217391\n",
      "\n"
     ]
    }
   ],
   "source": [
    "print(\"Accuracy Score:\",accuracy_score(y_test, y_predict))\n",
    "print()"
   ]
  },
  {
   "cell_type": "code",
   "execution_count": 312,
   "metadata": {},
   "outputs": [],
   "source": [
    "# Question 4\n",
    "cars = cases['Request Details'].str.split('-').str[1]"
   ]
  },
  {
   "cell_type": "code",
   "execution_count": 313,
   "metadata": {},
   "outputs": [],
   "source": [
    "# separating car brands by price levels\n",
    "high = ['BMW','Mercedes','Audi','Tesla','Porsche','Ferrari','Land Rover',\n",
    "        'Lamborghini','Maserati','Jaguar','Cadillac']\n",
    "med = ['Acura','Lexus','Mini','Infiniti','Volvo']\n",
    "low = ['Honda','Kia','Toyota','Hyundai','Ford','Nissan','Chevrolet',\n",
    "       'Volkswagon','VW','Jeep','Mazda','Subaru']"
   ]
  },
  {
   "cell_type": "code",
   "execution_count": 314,
   "metadata": {},
   "outputs": [],
   "source": [
    "# new dataframe with request type and car brands extracted from request details column\n",
    "df_cars = pd.concat([cars,cases['Request Type']],axis=1).dropna()"
   ]
  },
  {
   "cell_type": "code",
   "execution_count": 315,
   "metadata": {},
   "outputs": [],
   "source": [
    "req = df_cars['Request Details']"
   ]
  },
  {
   "cell_type": "code",
   "execution_count": 316,
   "metadata": {},
   "outputs": [],
   "source": [
    "# labeling appropriate price levels for requests based on car brands\n",
    "df_cars.loc[req.str.contains('|'.join(high)),'Price Level'] = 'High'\n",
    "df_cars.loc[req.str.contains('|'.join(med)),'Price Level'] = 'Medium'\n",
    "df_cars.loc[req.str.contains('|'.join(low)),'Price Level'] = 'Low'"
   ]
  },
  {
   "cell_type": "code",
   "execution_count": 317,
   "metadata": {},
   "outputs": [],
   "source": [
    "# final cleaned dataset\n",
    "data_cars = df_cars.dropna().reset_index(drop=True)"
   ]
  },
  {
   "cell_type": "code",
   "execution_count": 318,
   "metadata": {},
   "outputs": [],
   "source": [
    "# trying to see if there's a relationship between price level and request type\n",
    "from sklearn.feature_extraction.text import TfidfVectorizer\n",
    "\n",
    "tf_idf = TfidfVectorizer()\n",
    "tfidf = tf_idf.fit_transform(data_cars['Request Type']).toarray()"
   ]
  },
  {
   "cell_type": "code",
   "execution_count": 319,
   "metadata": {},
   "outputs": [],
   "source": [
    "from sklearn.decomposition import PCA\n",
    "import matplotlib.pyplot as plt\n",
    "\n",
    "pca = PCA(n_components=2,random_state=1)\n",
    "tfidf_pca = pca.fit_transform(tfidf)"
   ]
  },
  {
   "cell_type": "code",
   "execution_count": 320,
   "metadata": {},
   "outputs": [],
   "source": [
    "high = data_cars.index[data_cars['Price Level'] == 'High']\n",
    "med = data_cars.index[data_cars['Price Level'] == 'Medium']\n",
    "low = data_cars.index[data_cars['Price Level'] == 'Low']"
   ]
  },
  {
   "cell_type": "code",
   "execution_count": 321,
   "metadata": {},
   "outputs": [],
   "source": [
    "# separate by price level and cluster request type\n",
    "from collections import Counter\n",
    "# density of request type by high priced cars\n",
    "# density is shown by the size of the points\n",
    "x = tfidf_pca[high,0]\n",
    "y = tfidf_pca[high,1]\n",
    "c = Counter(zip(x,y)) # count same points\n",
    "s = [c[(xx,yy)] for xx,yy in zip(x,y)] # scale"
   ]
  },
  {
   "cell_type": "code",
   "execution_count": 322,
   "metadata": {},
   "outputs": [
    {
     "data": {
      "image/png": "[encoded data removed]",
      "text/plain": [
       "<Figure size 432x288 with 1 Axes>"
      ]
     },
     "metadata": {
      "needs_background": "light"
     },
     "output_type": "display_data"
    }
   ],
   "source": [
    "plt.scatter(x, y, s=s)\n",
    "plt.title('First 2 principal components after RBF Kernel PCA for tfidf')\n",
    "plt.xlabel('PC1')\n",
    "plt.ylabel('PC2')\n",
    "plt.show()"
   ]
  },
  {
   "cell_type": "code",
   "execution_count": 323,
   "metadata": {},
   "outputs": [],
   "source": [
    "# merge kpca and data_cars by price level (high)\n",
    "x_coord = c.most_common(1)[0][0][0]\n",
    "y_coord = c.most_common(1)[0][0][1]\n",
    "\n",
    "car_index = np.where((tfidf_pca[high,0] == x_coord) & (tfidf_pca[high,1] == y_coord))"
   ]
  },
  {
   "cell_type": "code",
   "execution_count": 324,
   "metadata": {},
   "outputs": [
    {
     "data": {
      "text/plain": [
       "Request Type    Other_Illegal_Parking\n",
       "Name: 1, dtype: object"
      ]
     },
     "execution_count": 324,
     "metadata": {},
     "output_type": "execute_result"
    }
   ],
   "source": [
    "# request type with the highest count\n",
    "high_car = data_cars.loc[data_cars['Price Level'] == 'High']\n",
    "high_car.reset_index(drop=True, inplace=True)\n",
    "high_car.loc[(car_index[0][0]), data_cars.columns == 'Request Type']"
   ]
  },
  {
   "cell_type": "code",
   "execution_count": 325,
   "metadata": {},
   "outputs": [
    {
     "data": {
      "image/png": "[encoded data removed]",
      "text/plain": [
       "<Figure size 432x288 with 1 Axes>"
      ]
     },
     "metadata": {
      "needs_background": "light"
     },
     "output_type": "display_data"
    }
   ],
   "source": [
    "# density of request type by medium priced cars\n",
    "x = tfidf_pca[med,0]\n",
    "y = tfidf_pca[med,1]\n",
    "c = Counter(zip(x,y))\n",
    "s = [c[(xx,yy)] for xx,yy in zip(x,y)]\n",
    "\n",
    "plt.scatter(x, y, s=s)\n",
    "plt.title('First 2 principal components after RBF Kernel PCA for tfidf')\n",
    "plt.xlabel('PC1')\n",
    "plt.ylabel('PC2')\n",
    "plt.show()"
   ]
  },
  {
   "cell_type": "code",
   "execution_count": 326,
   "metadata": {},
   "outputs": [],
   "source": [
    "# merge kpca and data_cars by price level (med)\n",
    "x_coord = c.most_common(1)[0][0][0]\n",
    "y_coord = c.most_common(1)[0][0][1]\n",
    "\n",
    "car_index = np.where((tfidf_pca[med,0] == x_coord) & (tfidf_pca[med,1] == y_coord))"
   ]
  },
  {
   "cell_type": "code",
   "execution_count": 327,
   "metadata": {},
   "outputs": [
    {
     "data": {
      "text/plain": [
       "Request Type    Other_Illegal_Parking\n",
       "Name: 0, dtype: object"
      ]
     },
     "execution_count": 327,
     "metadata": {},
     "output_type": "execute_result"
    }
   ],
   "source": [
    "# request type with the highest count\n",
    "med_car = data_cars.loc[data_cars['Price Level'] == 'Medium']\n",
    "med_car.reset_index(drop=True, inplace=True)\n",
    "med_car.loc[(car_index[0][0]), data_cars.columns == 'Request Type']"
   ]
  },
  {
   "cell_type": "code",
   "execution_count": 328,
   "metadata": {},
   "outputs": [
    {
     "data": {
      "image/png": "[encoded data removed]",
      "text/plain": [
       "<Figure size 432x288 with 1 Axes>"
      ]
     },
     "metadata": {
      "needs_background": "light"
     },
     "output_type": "display_data"
    }
   ],
   "source": [
    "# density of request type by low priced cars\n",
    "x = tfidf_pca[low,0]\n",
    "y = tfidf_pca[low,1]\n",
    "c = Counter(zip(x,y))\n",
    "s = [0.001*c[(xx,yy)] for xx,yy in zip(x,y)] # change multiplier \n",
    "\n",
    "plt.scatter(x, y, s=s)\n",
    "plt.title('First 2 principal components after RBF Kernel PCA for tfidf')\n",
    "plt.xlabel('PC1')\n",
    "plt.ylabel('PC2')\n",
    "plt.show()"
   ]
  },
  {
   "cell_type": "code",
   "execution_count": 329,
   "metadata": {},
   "outputs": [],
   "source": [
    "# merge kpca and data_cars by price level (low)\n",
    "x_coord = c.most_common(1)[0][0][0]\n",
    "y_coord = c.most_common(1)[0][0][1]\n",
    "\n",
    "car_index = np.where((tfidf_pca[low,0] == x_coord) & (tfidf_pca[low,1] == y_coord))"
   ]
  },
  {
   "cell_type": "code",
   "execution_count": 330,
   "metadata": {},
   "outputs": [
    {
     "data": {
      "text/plain": [
       "Request Type    Other_Illegal_Parking\n",
       "Name: 6, dtype: object"
      ]
     },
     "execution_count": 330,
     "metadata": {},
     "output_type": "execute_result"
    }
   ],
   "source": [
    "# request type with the highest count\n",
    "low_car = data_cars.loc[data_cars['Price Level'] == 'Low']\n",
    "low_car.reset_index(drop=True, inplace=True)\n",
    "low_car.loc[(car_index[0][0]), data_cars.columns == 'Request Type']"
   ]
  },
  {
   "cell_type": "code",
   "execution_count": 511,
   "metadata": {},
   "outputs": [],
   "source": [
    "# Question 7: common attributes for NA rows\n",
    "cases = pd.read_csv('../STA 141C/Cases_Subset.csv', sep = \",\", dtype = \"str\")\n",
    "\n",
    "cases = cases.drop(cases.columns[range(20,47)], axis = 1)"
   ]
  },
  {
   "cell_type": "code",
   "execution_count": 512,
   "metadata": {},
   "outputs": [],
   "source": [
    "cases = cases[cases['Closed'].isna()]"
   ]
  },
  {
   "cell_type": "code",
   "execution_count": 513,
   "metadata": {},
   "outputs": [],
   "source": [
    "cases_q7 = cases.drop(['Request Details','CaseID','Media URL','Closed','Updated',\n",
    "                       'Status Notes','Point','Address'], axis=1)"
   ]
  },
  {
   "cell_type": "code",
   "execution_count": 514,
   "metadata": {},
   "outputs": [],
   "source": [
    "# dummy variables for categorical columns\n",
    "status = pd.get_dummies(cases_q7['Status'],drop_first=True)\n",
    "category = pd.get_dummies(cases_q7['Category'],drop_first=True)\n",
    "agency = pd.get_dummies(cases_q7['Responsible Agency'],drop_first=True)\n",
    "street = pd.get_dummies(cases_q7['Street'],drop_first=True)\n",
    "supervisor = pd.get_dummies(cases_q7['Supervisor District'],drop_first=True)\n",
    "neighbor = pd.get_dummies(cases_q7['Neighborhood'],drop_first=True)\n",
    "police = pd.get_dummies(cases_q7['Police District'],drop_first=True)\n",
    "source = pd.get_dummies(cases_q7['Source'],drop_first=True)"
   ]
  },
  {
   "cell_type": "code",
   "execution_count": 515,
   "metadata": {},
   "outputs": [],
   "source": [
    "df7_cases = pd.concat([cases_q7,status,category,agency,street,supervisor,neighbor,police,source],axis=1)"
   ]
  },
  {
   "cell_type": "code",
   "execution_count": 516,
   "metadata": {},
   "outputs": [],
   "source": [
    "# dropping the original columns\n",
    "df7_cases = df7_cases.drop(['Status','Category','Responsible Agency','Street',\n",
    "              'Supervisor District','Neighborhood','Police District',\n",
    "              'Opened','Source'],axis=1)"
   ]
  },
  {
   "cell_type": "code",
   "execution_count": 495,
   "metadata": {},
   "outputs": [],
   "source": [
    "X = df7_cases.loc[:,df7_cases.columns != 'Request Type']\n",
    "\n",
    "# create y from rating\n",
    "y = df7_cases['Request Type']"
   ]
  },
  {
   "cell_type": "code",
   "execution_count": 503,
   "metadata": {},
   "outputs": [],
   "source": [
    "from sklearn.preprocessing import StandardScaler\n",
    "sc = StandardScaler()\n",
    "x = sc.fit_transform(X)\n",
    "pca_q7 = pca.fit_transform(x)\n",
    "principalDf = pd.DataFrame(data = pca_q7,\n",
    "                           columns = ['principal component 1', 'principal component 2'])\n",
    "principalDf.reset_index(drop=True, inplace=True)\n",
    "y.reset_index(drop=True, inplace=True)\n",
    "finalDf = pd.concat([principalDf, y], axis=1)"
   ]
  },
  {
   "cell_type": "code",
   "execution_count": 555,
   "metadata": {},
   "outputs": [],
   "source": [
    "# plotting seven most common request types\n",
    "na_data = df7_cases.groupby('Request Type').agg('count')['Latitude'].sort_values(ascending=False).head(7)"
   ]
  },
  {
   "cell_type": "code",
   "execution_count": 560,
   "metadata": {
    "scrolled": true
   },
   "outputs": [
    {
     "data": {
      "image/png": "[encoded data removed]",
      "text/plain": [
       "<Figure size 576x576 with 1 Axes>"
      ]
     },
     "metadata": {
      "needs_background": "light"
     },
     "output_type": "display_data"
    }
   ],
   "source": [
    "fig = plt.figure(figsize = (8,8))\n",
    "ax = fig.add_subplot(1,1,1) \n",
    "ax.set_xlabel('Principal Component 1', fontsize = 15)\n",
    "ax.set_ylabel('Principal Component 2', fontsize = 15)\n",
    "ax.set_title('2 component PCA', fontsize = 20)\n",
    "targets = list(na_data.index) # target values\n",
    "colors = ['red', 'yellow', 'green', 'cyan', 'blue', 'magenta','black']\n",
    "\n",
    "for target, color in zip(targets,colors):\n",
    "    indicesToKeep = finalDf['Request Type'] == target\n",
    "    ax.scatter(finalDf.loc[indicesToKeep, 'principal component 1']\n",
    "               , finalDf.loc[indicesToKeep, 'principal component 2']\n",
    "               , c = color\n",
    "               , s = 50)\n",
    "ax.legend(targets,loc = 'upper center',bbox_to_anchor = (1.45, 0.8), shadow = True, ncol = 1)\n",
    "ax.grid()"
   ]
  },
  {
   "cell_type": "code",
   "execution_count": null,
   "metadata": {},
   "outputs": [],
   "source": []
  }
 ],
 "metadata": {
  "kernelspec": {
   "display_name": "Python 3",
   "language": "python",
   "name": "python3"
  },
  "language_info": {
   "codemirror_mode": {
    "name": "ipython",
    "version": 3
   },
   "file_extension": ".py",
   "mimetype": "text/x-python",
   "name": "python",
   "nbconvert_exporter": "python",
   "pygments_lexer": "ipython3",
   "version": "3.8.5"
  }
 },
 "nbformat": 4,
 "nbformat_minor": 4
}
